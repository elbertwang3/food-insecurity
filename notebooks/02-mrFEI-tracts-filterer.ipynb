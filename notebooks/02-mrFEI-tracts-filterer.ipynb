{
 "cells": [
  {
   "cell_type": "code",
   "execution_count": 36,
   "metadata": {},
   "outputs": [],
   "source": [
    "import pandas as pd"
   ]
  },
  {
   "cell_type": "code",
   "execution_count": 39,
   "metadata": {},
   "outputs": [],
   "source": [
    "df = pd.read_csv('../data/2_16_mrfei_data_table.csv', \n",
    "                converters={'fips': lambda x: str(x)})"
   ]
  },
  {
   "cell_type": "code",
   "execution_count": 40,
   "metadata": {},
   "outputs": [
    {
     "data": {
      "text/html": [
       "<div>\n",
       "<style scoped>\n",
       "    .dataframe tbody tr th:only-of-type {\n",
       "        vertical-align: middle;\n",
       "    }\n",
       "\n",
       "    .dataframe tbody tr th {\n",
       "        vertical-align: top;\n",
       "    }\n",
       "\n",
       "    .dataframe thead th {\n",
       "        text-align: right;\n",
       "    }\n",
       "</style>\n",
       "<table border=\"1\" class=\"dataframe\">\n",
       "  <thead>\n",
       "    <tr style=\"text-align: right;\">\n",
       "      <th></th>\n",
       "      <th>state</th>\n",
       "      <th>fips</th>\n",
       "      <th>mrfei</th>\n",
       "    </tr>\n",
       "  </thead>\n",
       "  <tbody>\n",
       "    <tr>\n",
       "      <th>0</th>\n",
       "      <td>AL</td>\n",
       "      <td>01001020100</td>\n",
       "      <td>17</td>\n",
       "    </tr>\n",
       "    <tr>\n",
       "      <th>1</th>\n",
       "      <td>AL</td>\n",
       "      <td>01001020200</td>\n",
       "      <td>17</td>\n",
       "    </tr>\n",
       "    <tr>\n",
       "      <th>2</th>\n",
       "      <td>AL</td>\n",
       "      <td>01001020300</td>\n",
       "      <td>18</td>\n",
       "    </tr>\n",
       "    <tr>\n",
       "      <th>3</th>\n",
       "      <td>AL</td>\n",
       "      <td>01001020400</td>\n",
       "      <td>13</td>\n",
       "    </tr>\n",
       "    <tr>\n",
       "      <th>4</th>\n",
       "      <td>AL</td>\n",
       "      <td>01001020500</td>\n",
       "      <td>6</td>\n",
       "    </tr>\n",
       "  </tbody>\n",
       "</table>\n",
       "</div>"
      ],
      "text/plain": [
       "  state         fips mrfei\n",
       "0    AL  01001020100    17\n",
       "1    AL  01001020200    17\n",
       "2    AL  01001020300    18\n",
       "3    AL  01001020400    13\n",
       "4    AL  01001020500     6"
      ]
     },
     "execution_count": 40,
     "metadata": {},
     "output_type": "execute_result"
    }
   ],
   "source": [
    "counties = [\n",
    "    {\"state_code\":\"06\", \"county_code\": \"001\", \"county_name\": \"Alameda, CA\"},\n",
    "    {\"state_code\":\"06\", \"county_code\": \"013\", \"county_name\": \"Contra Costa, CA\"},\n",
    "    {\"state_code\":\"06\", \"county_code\": \"041\", \"county_name\": \"Marin, CA\"},\n",
    "    {\"state_code\":\"06\", \"county_code\": \"055\", \"county_name\": \"Napa, CA\"},\n",
    "    {\"state_code\":\"06\", \"county_code\": \"075\", \"county_name\": \"San Francisco, CA\"},\n",
    "    {\"state_code\":\"06\", \"county_code\": \"081\", \"county_name\": \"San Mateo, CA\"},\n",
    "    {\"state_code\":\"06\", \"county_code\": \"085\", \"county_name\": \"Santa Clara, CA\"},\n",
    "    {\"state_code\":\"06\", \"county_code\": \"095\", \"county_name\": \"Solano, CA\"},\n",
    "    {\"state_code\":\"06\", \"county_code\": \"097\", \"county_name\": \"Sonoma, CA\"},\n",
    "]\n",
    "df.head()"
   ]
  },
  {
   "cell_type": "code",
   "execution_count": 52,
   "metadata": {},
   "outputs": [
    {
     "data": {
      "text/plain": [
       "1405"
      ]
     },
     "execution_count": 52,
     "metadata": {},
     "output_type": "execute_result"
    }
   ],
   "source": [
    "sf_bay_area = df.loc[(df['fips'].str[0:2] == '06') & (df['fips'].str[2:5].isin(['001', '013', '041', '055', '075', '081', '085', '095', '097']))]\n",
    "len(sf_bay_area)                                               "
   ]
  },
  {
   "cell_type": "code",
   "execution_count": 53,
   "metadata": {},
   "outputs": [],
   "source": [
    "sf_bay_area.to_csv(\n",
    "    \"../data/tract_mRFEI_levels.csv\",\n",
    "    index = False\n",
    ")"
   ]
  },
  {
   "cell_type": "code",
   "execution_count": 54,
   "metadata": {},
   "outputs": [
    {
     "data": {
      "text/html": [
       "<div>\n",
       "<style scoped>\n",
       "    .dataframe tbody tr th:only-of-type {\n",
       "        vertical-align: middle;\n",
       "    }\n",
       "\n",
       "    .dataframe tbody tr th {\n",
       "        vertical-align: top;\n",
       "    }\n",
       "\n",
       "    .dataframe thead th {\n",
       "        text-align: right;\n",
       "    }\n",
       "</style>\n",
       "<table border=\"1\" class=\"dataframe\">\n",
       "  <thead>\n",
       "    <tr style=\"text-align: right;\">\n",
       "      <th></th>\n",
       "      <th>state_code</th>\n",
       "      <th>county_code</th>\n",
       "      <th>tracts</th>\n",
       "      <th>county_name</th>\n",
       "    </tr>\n",
       "  </thead>\n",
       "  <tbody>\n",
       "    <tr>\n",
       "      <th>6</th>\n",
       "      <td>06</td>\n",
       "      <td>085</td>\n",
       "      <td>341</td>\n",
       "      <td>Santa Clara, CA</td>\n",
       "    </tr>\n",
       "    <tr>\n",
       "      <th>0</th>\n",
       "      <td>06</td>\n",
       "      <td>001</td>\n",
       "      <td>321</td>\n",
       "      <td>Alameda, CA</td>\n",
       "    </tr>\n",
       "    <tr>\n",
       "      <th>4</th>\n",
       "      <td>06</td>\n",
       "      <td>075</td>\n",
       "      <td>176</td>\n",
       "      <td>San Francisco, CA</td>\n",
       "    </tr>\n",
       "    <tr>\n",
       "      <th>1</th>\n",
       "      <td>06</td>\n",
       "      <td>013</td>\n",
       "      <td>168</td>\n",
       "      <td>Contra Costa, CA</td>\n",
       "    </tr>\n",
       "    <tr>\n",
       "      <th>5</th>\n",
       "      <td>06</td>\n",
       "      <td>081</td>\n",
       "      <td>155</td>\n",
       "      <td>San Mateo, CA</td>\n",
       "    </tr>\n",
       "    <tr>\n",
       "      <th>8</th>\n",
       "      <td>06</td>\n",
       "      <td>097</td>\n",
       "      <td>86</td>\n",
       "      <td>Sonoma, CA</td>\n",
       "    </tr>\n",
       "    <tr>\n",
       "      <th>7</th>\n",
       "      <td>06</td>\n",
       "      <td>095</td>\n",
       "      <td>80</td>\n",
       "      <td>Solano, CA</td>\n",
       "    </tr>\n",
       "    <tr>\n",
       "      <th>2</th>\n",
       "      <td>06</td>\n",
       "      <td>041</td>\n",
       "      <td>51</td>\n",
       "      <td>Marin, CA</td>\n",
       "    </tr>\n",
       "    <tr>\n",
       "      <th>3</th>\n",
       "      <td>06</td>\n",
       "      <td>055</td>\n",
       "      <td>27</td>\n",
       "      <td>Napa, CA</td>\n",
       "    </tr>\n",
       "  </tbody>\n",
       "</table>\n",
       "</div>"
      ],
      "text/plain": [
       "  state_code county_code  tracts        county_name\n",
       "6         06         085     341    Santa Clara, CA\n",
       "0         06         001     321        Alameda, CA\n",
       "4         06         075     176  San Francisco, CA\n",
       "1         06         013     168   Contra Costa, CA\n",
       "5         06         081     155      San Mateo, CA\n",
       "8         06         097      86         Sonoma, CA\n",
       "7         06         095      80         Solano, CA\n",
       "2         06         041      51          Marin, CA\n",
       "3         06         055      27           Napa, CA"
      ]
     },
     "execution_count": 54,
     "metadata": {},
     "output_type": "execute_result"
    }
   ],
   "source": [
    "(\n",
    "    sf_bay_area\n",
    "    .assign(\n",
    "        state_code = lambda df: df[\"fips\"].str.slice(0, 2),\n",
    "        county_code = lambda df: df[\"fips\"].str.slice(2, 5)\n",
    "    )\n",
    "    .groupby([\n",
    "        \"state_code\",\n",
    "        \"county_code\"\n",
    "    ])\n",
    "    .size()\n",
    "    .to_frame(\"tracts\")\n",
    "    .reset_index()\n",
    "    .merge(\n",
    "        pd.DataFrame(counties),\n",
    "        how = \"outer\",\n",
    "        on = [\n",
    "            \"state_code\",\n",
    "            \"county_code\"\n",
    "        ]\n",
    "    )\n",
    "    .sort_values(\"tracts\", ascending = False)\n",
    ")"
   ]
  },
  {
   "cell_type": "code",
   "execution_count": null,
   "metadata": {},
   "outputs": [],
   "source": []
  }
 ],
 "metadata": {
  "kernelspec": {
   "display_name": "Python 3",
   "language": "python",
   "name": "python3"
  },
  "language_info": {
   "codemirror_mode": {
    "name": "ipython",
    "version": 3
   },
   "file_extension": ".py",
   "mimetype": "text/x-python",
   "name": "python",
   "nbconvert_exporter": "python",
   "pygments_lexer": "ipython3",
   "version": "3.6.5"
  }
 },
 "nbformat": 4,
 "nbformat_minor": 2
}
